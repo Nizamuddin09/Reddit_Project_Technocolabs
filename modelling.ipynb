{
 "cells": [
  {
   "cell_type": "code",
   "execution_count": 1,
   "metadata": {},
   "outputs": [],
   "source": [
    "import nltk"
   ]
  },
  {
   "cell_type": "code",
   "execution_count": 2,
   "metadata": {},
   "outputs": [],
   "source": [
    "from numpy import array\n",
    "from numpy import asarray\n",
    "from numpy import zeros\n",
    "import pandas as pd\n",
    "from sklearn.model_selection import train_test_split\n",
    "import numpy as np\n",
    "from collections import deque\n",
    "import matplotlib.pyplot as plt"
   ]
  },
  {
   "cell_type": "code",
   "execution_count": 3,
   "metadata": {},
   "outputs": [
    {
     "name": "stderr",
     "output_type": "stream",
     "text": [
      "Using TensorFlow backend.\n"
     ]
    }
   ],
   "source": [
    "from keras.preprocessing.text import Tokenizer\n",
    "from keras.preprocessing.sequence import pad_sequences\n",
    "import pickle"
   ]
  },
  {
   "cell_type": "code",
   "execution_count": 4,
   "metadata": {},
   "outputs": [],
   "source": [
    "data = pd.read_csv('final.csv')"
   ]
  },
  {
   "cell_type": "code",
   "execution_count": 5,
   "metadata": {},
   "outputs": [],
   "source": [
    "data.dropna(inplace=True)"
   ]
  },
  {
   "cell_type": "code",
   "execution_count": 6,
   "metadata": {},
   "outputs": [],
   "source": [
    "data.drop(['Unnamed: 0','Upvote_ratio'], axis=1, inplace=True)"
   ]
  },
  {
   "cell_type": "code",
   "execution_count": 7,
   "metadata": {},
   "outputs": [
    {
     "name": "stdout",
     "output_type": "stream",
     "text": [
      "Title word count lengths: \n",
      " Min: 1 \n",
      " Max: 63 \n",
      " Average: 8.571944853433275\n"
     ]
    },
    {
     "data": {
      "image/png": "[encoded data removed]",
      "text/plain": [
       "<Figure size 1440x1080 with 1 Axes>"
      ]
     },
     "metadata": {
      "needs_background": "light"
     },
     "output_type": "display_data"
    }
   ],
   "source": [
    "plt.figure(figsize=(20,15))\n",
    "plt.subplot(221)\n",
    "title_word_lengths = [len(str(data.Title.iloc[i]).split(' ')) for i in range(len(data))]\n",
    "max_title_word_length = max(title_word_lengths)\n",
    "min_title_word_length = min(title_word_lengths)\n",
    "average_title_word_length = sum(title_word_lengths)/len(title_word_lengths)\n",
    "plt.hist(title_word_lengths, bins = 30)\n",
    "print('Title word count lengths: \\n Min: {} \\n Max: {} \\n Average: {}'.format(min_title_word_length, max_title_word_length, average_title_word_length))\n"
   ]
  },
  {
   "cell_type": "code",
   "execution_count": 8,
   "metadata": {},
   "outputs": [],
   "source": [
    "from sklearn.feature_extraction.text import ENGLISH_STOP_WORDS\n",
    "import re\n",
    "\n",
    "from nltk.stem import WordNetLemmatizer,PorterStemmer\n",
    "lemmatizer = WordNetLemmatizer()\n",
    "stemmer = PorterStemmer()\n",
    "\n",
    "def text_preprocess(text):\n",
    "    text = re.sub(r'[^\\w\\s]', '', text) \n",
    "    l_text = [word for word in text.lower().split() if word not in ENGLISH_STOP_WORDS]\n",
    "    stem_words = [stemmer.stem(w) for w in l_text]\n",
    "    lemma_words = [lemmatizer.lemmatize(w) for w in l_text]\n",
    "\n",
    "    return \" \".join(lemma_words)\n",
    "\n",
    "data['Title'] = data['Title'].map(lambda com : text_preprocess(com))"
   ]
  },
  {
   "cell_type": "code",
   "execution_count": 9,
   "metadata": {},
   "outputs": [
    {
     "data": {
      "text/html": [
       "<div>\n",
       "<style scoped>\n",
       "    .dataframe tbody tr th:only-of-type {\n",
       "        vertical-align: middle;\n",
       "    }\n",
       "\n",
       "    .dataframe tbody tr th {\n",
       "        vertical-align: top;\n",
       "    }\n",
       "\n",
       "    .dataframe thead th {\n",
       "        text-align: right;\n",
       "    }\n",
       "</style>\n",
       "<table border=\"1\" class=\"dataframe\">\n",
       "  <thead>\n",
       "    <tr style=\"text-align: right;\">\n",
       "      <th></th>\n",
       "      <th>Title</th>\n",
       "      <th>Score</th>\n",
       "      <th>Gilded</th>\n",
       "      <th>Over_18</th>\n",
       "      <th>Number_of_Comments</th>\n",
       "      <th>neg</th>\n",
       "      <th>neu</th>\n",
       "      <th>pos</th>\n",
       "      <th>compound</th>\n",
       "    </tr>\n",
       "  </thead>\n",
       "  <tbody>\n",
       "    <tr>\n",
       "      <th>0</th>\n",
       "      <td>house impeaches trump second time capitol riot</td>\n",
       "      <td>39464</td>\n",
       "      <td>2</td>\n",
       "      <td>False</td>\n",
       "      <td>8801</td>\n",
       "      <td>0.292</td>\n",
       "      <td>0.708</td>\n",
       "      <td>0.000</td>\n",
       "      <td>-0.5106</td>\n",
       "    </tr>\n",
       "    <tr>\n",
       "      <th>1</th>\n",
       "      <td>im 16 yr old blacksmith forged whale bottle op...</td>\n",
       "      <td>29423</td>\n",
       "      <td>0</td>\n",
       "      <td>False</td>\n",
       "      <td>443</td>\n",
       "      <td>0.000</td>\n",
       "      <td>0.633</td>\n",
       "      <td>0.367</td>\n",
       "      <td>0.8268</td>\n",
       "    </tr>\n",
       "    <tr>\n",
       "      <th>2</th>\n",
       "      <td>research spouting nonsense</td>\n",
       "      <td>50420</td>\n",
       "      <td>0</td>\n",
       "      <td>False</td>\n",
       "      <td>1008</td>\n",
       "      <td>0.351</td>\n",
       "      <td>0.649</td>\n",
       "      <td>0.000</td>\n",
       "      <td>-0.4019</td>\n",
       "    </tr>\n",
       "    <tr>\n",
       "      <th>3</th>\n",
       "      <td>moving box arrive white house</td>\n",
       "      <td>149858</td>\n",
       "      <td>6</td>\n",
       "      <td>False</td>\n",
       "      <td>4392</td>\n",
       "      <td>0.000</td>\n",
       "      <td>1.000</td>\n",
       "      <td>0.000</td>\n",
       "      <td>0.0000</td>\n",
       "    </tr>\n",
       "    <tr>\n",
       "      <th>4</th>\n",
       "      <td>took seriously black cop warned racist capitol...</td>\n",
       "      <td>7768</td>\n",
       "      <td>0</td>\n",
       "      <td>False</td>\n",
       "      <td>157</td>\n",
       "      <td>0.319</td>\n",
       "      <td>0.681</td>\n",
       "      <td>0.000</td>\n",
       "      <td>-0.7269</td>\n",
       "    </tr>\n",
       "  </tbody>\n",
       "</table>\n",
       "</div>"
      ],
      "text/plain": [
       "                                               Title   Score  Gilded  Over_18  \\\n",
       "0     house impeaches trump second time capitol riot   39464       2    False   \n",
       "1  im 16 yr old blacksmith forged whale bottle op...   29423       0    False   \n",
       "2                         research spouting nonsense   50420       0    False   \n",
       "3                      moving box arrive white house  149858       6    False   \n",
       "4  took seriously black cop warned racist capitol...    7768       0    False   \n",
       "\n",
       "   Number_of_Comments    neg    neu    pos  compound  \n",
       "0                8801  0.292  0.708  0.000   -0.5106  \n",
       "1                 443  0.000  0.633  0.367    0.8268  \n",
       "2                1008  0.351  0.649  0.000   -0.4019  \n",
       "3                4392  0.000  1.000  0.000    0.0000  \n",
       "4                 157  0.319  0.681  0.000   -0.7269  "
      ]
     },
     "execution_count": 9,
     "metadata": {},
     "output_type": "execute_result"
    }
   ],
   "source": [
    "data.head()"
   ]
  },
  {
   "cell_type": "code",
   "execution_count": 10,
   "metadata": {},
   "outputs": [],
   "source": [
    "i = 0\n",
    "\n",
    "predicted_value = []\n",
    "\n",
    "while i<len(data):\n",
    "  if (data.loc[i]['compound'] >= 0.5):\n",
    "    predicted_value.append('positive')\n",
    "    i = i+1\n",
    "\n",
    "  elif (data.loc[i]['compound'] >= 0) & (data.loc[i]['compound'] <= 0.5):\n",
    "    predicted_value.append('neutral')\n",
    "    i = i+1\n",
    "\n",
    "  elif (data.loc[i]['compound'] <= 0):\n",
    "    predicted_value.append('negative')\n",
    "    i = i+1"
   ]
  },
  {
   "cell_type": "code",
   "execution_count": 11,
   "metadata": {},
   "outputs": [],
   "source": [
    "data['Predicted_value'] = predicted_value"
   ]
  },
  {
   "cell_type": "code",
   "execution_count": 12,
   "metadata": {},
   "outputs": [
    {
     "data": {
      "text/html": [
       "<div>\n",
       "<style scoped>\n",
       "    .dataframe tbody tr th:only-of-type {\n",
       "        vertical-align: middle;\n",
       "    }\n",
       "\n",
       "    .dataframe tbody tr th {\n",
       "        vertical-align: top;\n",
       "    }\n",
       "\n",
       "    .dataframe thead th {\n",
       "        text-align: right;\n",
       "    }\n",
       "</style>\n",
       "<table border=\"1\" class=\"dataframe\">\n",
       "  <thead>\n",
       "    <tr style=\"text-align: right;\">\n",
       "      <th></th>\n",
       "      <th>Title</th>\n",
       "      <th>Score</th>\n",
       "      <th>Gilded</th>\n",
       "      <th>Over_18</th>\n",
       "      <th>Number_of_Comments</th>\n",
       "      <th>neg</th>\n",
       "      <th>neu</th>\n",
       "      <th>pos</th>\n",
       "      <th>compound</th>\n",
       "      <th>Predicted_value</th>\n",
       "    </tr>\n",
       "  </thead>\n",
       "  <tbody>\n",
       "    <tr>\n",
       "      <th>0</th>\n",
       "      <td>house impeaches trump second time capitol riot</td>\n",
       "      <td>39464</td>\n",
       "      <td>2</td>\n",
       "      <td>False</td>\n",
       "      <td>8801</td>\n",
       "      <td>0.292</td>\n",
       "      <td>0.708</td>\n",
       "      <td>0.000</td>\n",
       "      <td>-0.5106</td>\n",
       "      <td>negative</td>\n",
       "    </tr>\n",
       "    <tr>\n",
       "      <th>1</th>\n",
       "      <td>im 16 yr old blacksmith forged whale bottle op...</td>\n",
       "      <td>29423</td>\n",
       "      <td>0</td>\n",
       "      <td>False</td>\n",
       "      <td>443</td>\n",
       "      <td>0.000</td>\n",
       "      <td>0.633</td>\n",
       "      <td>0.367</td>\n",
       "      <td>0.8268</td>\n",
       "      <td>positive</td>\n",
       "    </tr>\n",
       "    <tr>\n",
       "      <th>2</th>\n",
       "      <td>research spouting nonsense</td>\n",
       "      <td>50420</td>\n",
       "      <td>0</td>\n",
       "      <td>False</td>\n",
       "      <td>1008</td>\n",
       "      <td>0.351</td>\n",
       "      <td>0.649</td>\n",
       "      <td>0.000</td>\n",
       "      <td>-0.4019</td>\n",
       "      <td>negative</td>\n",
       "    </tr>\n",
       "    <tr>\n",
       "      <th>3</th>\n",
       "      <td>moving box arrive white house</td>\n",
       "      <td>149858</td>\n",
       "      <td>6</td>\n",
       "      <td>False</td>\n",
       "      <td>4392</td>\n",
       "      <td>0.000</td>\n",
       "      <td>1.000</td>\n",
       "      <td>0.000</td>\n",
       "      <td>0.0000</td>\n",
       "      <td>neutral</td>\n",
       "    </tr>\n",
       "    <tr>\n",
       "      <th>4</th>\n",
       "      <td>took seriously black cop warned racist capitol...</td>\n",
       "      <td>7768</td>\n",
       "      <td>0</td>\n",
       "      <td>False</td>\n",
       "      <td>157</td>\n",
       "      <td>0.319</td>\n",
       "      <td>0.681</td>\n",
       "      <td>0.000</td>\n",
       "      <td>-0.7269</td>\n",
       "      <td>negative</td>\n",
       "    </tr>\n",
       "  </tbody>\n",
       "</table>\n",
       "</div>"
      ],
      "text/plain": [
       "                                               Title   Score  Gilded  Over_18  \\\n",
       "0     house impeaches trump second time capitol riot   39464       2    False   \n",
       "1  im 16 yr old blacksmith forged whale bottle op...   29423       0    False   \n",
       "2                         research spouting nonsense   50420       0    False   \n",
       "3                      moving box arrive white house  149858       6    False   \n",
       "4  took seriously black cop warned racist capitol...    7768       0    False   \n",
       "\n",
       "   Number_of_Comments    neg    neu    pos  compound Predicted_value  \n",
       "0                8801  0.292  0.708  0.000   -0.5106        negative  \n",
       "1                 443  0.000  0.633  0.367    0.8268        positive  \n",
       "2                1008  0.351  0.649  0.000   -0.4019        negative  \n",
       "3                4392  0.000  1.000  0.000    0.0000         neutral  \n",
       "4                 157  0.319  0.681  0.000   -0.7269        negative  "
      ]
     },
     "execution_count": 12,
     "metadata": {},
     "output_type": "execute_result"
    }
   ],
   "source": [
    "data.head()"
   ]
  },
  {
   "cell_type": "code",
   "execution_count": 13,
   "metadata": {},
   "outputs": [],
   "source": [
    "data.drop(['neg', 'neu', 'pos', 'compound'], axis=1, inplace=True)"
   ]
  },
  {
   "cell_type": "code",
   "execution_count": 14,
   "metadata": {},
   "outputs": [],
   "source": [
    "X = data.drop(['Score'], axis=1)\n",
    "y = data['Score']"
   ]
  },
  {
   "cell_type": "code",
   "execution_count": 15,
   "metadata": {},
   "outputs": [
    {
     "data": {
      "text/plain": [
       "271"
      ]
     },
     "execution_count": 15,
     "metadata": {},
     "output_type": "execute_result"
    }
   ],
   "source": [
    "lengths = max([len(x) for x in X.Title])\n",
    "lengths\n"
   ]
  },
  {
   "cell_type": "code",
   "execution_count": 16,
   "metadata": {},
   "outputs": [],
   "source": [
    "X_train, X_test, y_train, y_test = train_test_split(X, y, test_size=0.20, random_state=42)"
   ]
  },
  {
   "cell_type": "code",
   "execution_count": 17,
   "metadata": {},
   "outputs": [],
   "source": [
    "tokenizer = Tokenizer(num_words=5000)\n",
    "tokenizer.fit_on_texts(X_train[\"Title\"])"
   ]
  },
  {
   "cell_type": "code",
   "execution_count": 18,
   "metadata": {},
   "outputs": [],
   "source": [
    "train_title = tokenizer.texts_to_sequences(X_train[\"Title\"])\n",
    "test_title = tokenizer.texts_to_sequences(X_test[\"Title\"])\n",
    "\n",
    "vocab_size = len(tokenizer.word_index) + 1"
   ]
  },
  {
   "cell_type": "code",
   "execution_count": 19,
   "metadata": {},
   "outputs": [],
   "source": [
    "indixes = tokenizer.word_index\n",
    "tokens = {k:[indixes[k]] for k in indixes}\n",
    "df_tokens = pd.DataFrame(tokens)\n",
    "df_tokens.to_csv('tokens.csv', header=True, index=False)"
   ]
  },
  {
   "cell_type": "code",
   "execution_count": 20,
   "metadata": {},
   "outputs": [],
   "source": [
    "maxlen = 300\n",
    "\n",
    "train_title = pad_sequences(train_title, padding='post', maxlen=maxlen)\n",
    "test_title = pad_sequences(test_title, padding='post', maxlen=maxlen)"
   ]
  },
  {
   "cell_type": "code",
   "execution_count": 22,
   "metadata": {},
   "outputs": [],
   "source": [
    "embeddings_dictionary = dict()\n",
    "\n",
    "glove_file = open('glove.6B.100d.txt', encoding=\"utf8\")\n",
    "\n",
    "for line in glove_file:\n",
    "    records = line.split()\n",
    "    word = records[0]\n",
    "    vector_dimensions = asarray(records[1:], dtype='float32')\n",
    "    embeddings_dictionary[word] = vector_dimensions\n",
    "glove_file.close()"
   ]
  },
  {
   "cell_type": "code",
   "execution_count": 23,
   "metadata": {},
   "outputs": [],
   "source": [
    "embedding_matrix = zeros((vocab_size, 100))\n",
    "for word, index in tokenizer.word_index.items():\n",
    "    embedding_vector = embeddings_dictionary.get(word)\n",
    "    if embedding_vector is not None:\n",
    "        embedding_matrix[index] = embedding_vector"
   ]
  },
  {
   "cell_type": "code",
   "execution_count": 24,
   "metadata": {},
   "outputs": [],
   "source": [
    "df = pd.DataFrame(data=embedding_matrix.astype(float))\n",
    "df.to_csv('embedded.csv', sep=' ', header=True, float_format='%.2f', index=False)"
   ]
  },
  {
   "cell_type": "code",
   "execution_count": 25,
   "metadata": {},
   "outputs": [],
   "source": [
    "train_new = {}\n",
    "for i, sentence in enumerate(train_title):\n",
    "    vectors = []\n",
    "    for n in sentence:\n",
    "        vectors.append(embedding_matrix[n])\n",
    "    train_new[i] = vectors"
   ]
  },
  {
   "cell_type": "code",
   "execution_count": 26,
   "metadata": {},
   "outputs": [],
   "source": [
    "test_new = {}\n",
    "for i, sentence in enumerate(test_title):\n",
    "    vectors = []\n",
    "    for n in sentence:\n",
    "        vectors.append(embedding_matrix[n])\n",
    "    test_new[i] = vectors"
   ]
  },
  {
   "cell_type": "code",
   "execution_count": 27,
   "metadata": {},
   "outputs": [],
   "source": [
    "X_train_df = []\n",
    "for key in train_new:\n",
    "    arr = np.array(train_new[key])\n",
    "    X_train_df.append(np.mean(arr, axis=0))"
   ]
  },
  {
   "cell_type": "code",
   "execution_count": 28,
   "metadata": {},
   "outputs": [],
   "source": [
    "X_test_df = []\n",
    "for key in test_new:\n",
    "    arr = np.array(test_new[key])\n",
    "    X_test_df.append(np.mean(arr, axis=0))"
   ]
  },
  {
   "cell_type": "code",
   "execution_count": 29,
   "metadata": {},
   "outputs": [],
   "source": [
    "X_train_df = pd.DataFrame(np.array(X_train_df))\n",
    "X_test_df = pd.DataFrame(np.array(X_test_df))"
   ]
  },
  {
   "cell_type": "code",
   "execution_count": 30,
   "metadata": {},
   "outputs": [],
   "source": [
    "from sklearn.preprocessing import OneHotEncoder\n",
    "\n",
    "categories = ['Over_18', 'Predicted_value']\n",
    "enc = OneHotEncoder(handle_unknown='ignore')\n",
    "enc.fit(X_train[categories])\n",
    "pickle.dump(enc, open('one_hot.pkl','wb'))"
   ]
  },
  {
   "cell_type": "code",
   "execution_count": 31,
   "metadata": {},
   "outputs": [],
   "source": [
    "col_names = [j for sub in enc.categories_ for j in sub] "
   ]
  },
  {
   "cell_type": "code",
   "execution_count": 32,
   "metadata": {},
   "outputs": [
    {
     "data": {
      "text/plain": [
       "[False, True, 'negative', 'neutral', 'positive']"
      ]
     },
     "execution_count": 32,
     "metadata": {},
     "output_type": "execute_result"
    }
   ],
   "source": [
    "col_names"
   ]
  },
  {
   "cell_type": "code",
   "execution_count": 33,
   "metadata": {},
   "outputs": [],
   "source": [
    "train_encoded = enc.transform(X_train[categories])\n",
    "test_encoded = enc.transform(X_test[categories])"
   ]
  },
  {
   "cell_type": "code",
   "execution_count": 34,
   "metadata": {},
   "outputs": [
    {
     "name": "stderr",
     "output_type": "stream",
     "text": [
      "C:\\Users\\Dell\\anaconda3\\lib\\site-packages\\pandas\\core\\frame.py:3997: SettingWithCopyWarning: \n",
      "A value is trying to be set on a copy of a slice from a DataFrame\n",
      "\n",
      "See the caveats in the documentation: https://pandas.pydata.org/pandas-docs/stable/user_guide/indexing.html#returning-a-view-versus-a-copy\n",
      "  errors=errors,\n"
     ]
    }
   ],
   "source": [
    "X_train.drop([\"Title\", 'Over_18', 'Predicted_value'], axis=1, inplace=True)\n",
    "X_test.drop([\"Title\", 'Over_18', 'Predicted_value'], axis=1, inplace=True)"
   ]
  },
  {
   "cell_type": "code",
   "execution_count": 35,
   "metadata": {},
   "outputs": [],
   "source": [
    "X_train.reset_index(inplace=True, drop=True)\n",
    "X_test.reset_index(inplace=True, drop=True)"
   ]
  },
  {
   "cell_type": "code",
   "execution_count": 36,
   "metadata": {},
   "outputs": [],
   "source": [
    "train = pd.DataFrame(train_encoded.todense(), columns=col_names)\n",
    "test = pd.DataFrame(test_encoded.todense(), columns=col_names)"
   ]
  },
  {
   "cell_type": "code",
   "execution_count": 37,
   "metadata": {},
   "outputs": [
    {
     "data": {
      "text/html": [
       "<div>\n",
       "<style scoped>\n",
       "    .dataframe tbody tr th:only-of-type {\n",
       "        vertical-align: middle;\n",
       "    }\n",
       "\n",
       "    .dataframe tbody tr th {\n",
       "        vertical-align: top;\n",
       "    }\n",
       "\n",
       "    .dataframe thead th {\n",
       "        text-align: right;\n",
       "    }\n",
       "</style>\n",
       "<table border=\"1\" class=\"dataframe\">\n",
       "  <thead>\n",
       "    <tr style=\"text-align: right;\">\n",
       "      <th></th>\n",
       "      <th>False</th>\n",
       "      <th>True</th>\n",
       "      <th>negative</th>\n",
       "      <th>neutral</th>\n",
       "      <th>positive</th>\n",
       "    </tr>\n",
       "  </thead>\n",
       "  <tbody>\n",
       "    <tr>\n",
       "      <th>0</th>\n",
       "      <td>1.0</td>\n",
       "      <td>0.0</td>\n",
       "      <td>1.0</td>\n",
       "      <td>0.0</td>\n",
       "      <td>0.0</td>\n",
       "    </tr>\n",
       "    <tr>\n",
       "      <th>1</th>\n",
       "      <td>1.0</td>\n",
       "      <td>0.0</td>\n",
       "      <td>0.0</td>\n",
       "      <td>1.0</td>\n",
       "      <td>0.0</td>\n",
       "    </tr>\n",
       "    <tr>\n",
       "      <th>2</th>\n",
       "      <td>1.0</td>\n",
       "      <td>0.0</td>\n",
       "      <td>0.0</td>\n",
       "      <td>1.0</td>\n",
       "      <td>0.0</td>\n",
       "    </tr>\n",
       "    <tr>\n",
       "      <th>3</th>\n",
       "      <td>1.0</td>\n",
       "      <td>0.0</td>\n",
       "      <td>1.0</td>\n",
       "      <td>0.0</td>\n",
       "      <td>0.0</td>\n",
       "    </tr>\n",
       "    <tr>\n",
       "      <th>4</th>\n",
       "      <td>1.0</td>\n",
       "      <td>0.0</td>\n",
       "      <td>0.0</td>\n",
       "      <td>1.0</td>\n",
       "      <td>0.0</td>\n",
       "    </tr>\n",
       "  </tbody>\n",
       "</table>\n",
       "</div>"
      ],
      "text/plain": [
       "   False  True  negative  neutral  positive\n",
       "0    1.0   0.0       1.0      0.0       0.0\n",
       "1    1.0   0.0       0.0      1.0       0.0\n",
       "2    1.0   0.0       0.0      1.0       0.0\n",
       "3    1.0   0.0       1.0      0.0       0.0\n",
       "4    1.0   0.0       0.0      1.0       0.0"
      ]
     },
     "execution_count": 37,
     "metadata": {},
     "output_type": "execute_result"
    }
   ],
   "source": [
    "train.head()"
   ]
  },
  {
   "cell_type": "code",
   "execution_count": 38,
   "metadata": {},
   "outputs": [],
   "source": [
    "X_train = pd.concat([X_train, X_train_df, train], axis=1)\n",
    "X_test = pd.concat([X_test, X_test_df, test], axis=1)"
   ]
  },
  {
   "cell_type": "code",
   "execution_count": 39,
   "metadata": {},
   "outputs": [
    {
     "data": {
      "text/html": [
       "<div>\n",
       "<style scoped>\n",
       "    .dataframe tbody tr th:only-of-type {\n",
       "        vertical-align: middle;\n",
       "    }\n",
       "\n",
       "    .dataframe tbody tr th {\n",
       "        vertical-align: top;\n",
       "    }\n",
       "\n",
       "    .dataframe thead th {\n",
       "        text-align: right;\n",
       "    }\n",
       "</style>\n",
       "<table border=\"1\" class=\"dataframe\">\n",
       "  <thead>\n",
       "    <tr style=\"text-align: right;\">\n",
       "      <th></th>\n",
       "      <th>Gilded</th>\n",
       "      <th>Number_of_Comments</th>\n",
       "      <th>0</th>\n",
       "      <th>1</th>\n",
       "      <th>2</th>\n",
       "      <th>3</th>\n",
       "      <th>4</th>\n",
       "      <th>5</th>\n",
       "      <th>6</th>\n",
       "      <th>7</th>\n",
       "      <th>...</th>\n",
       "      <th>95</th>\n",
       "      <th>96</th>\n",
       "      <th>97</th>\n",
       "      <th>98</th>\n",
       "      <th>99</th>\n",
       "      <th>False</th>\n",
       "      <th>True</th>\n",
       "      <th>negative</th>\n",
       "      <th>neutral</th>\n",
       "      <th>positive</th>\n",
       "    </tr>\n",
       "  </thead>\n",
       "  <tbody>\n",
       "    <tr>\n",
       "      <th>0</th>\n",
       "      <td>0</td>\n",
       "      <td>78</td>\n",
       "      <td>0.000034</td>\n",
       "      <td>0.002795</td>\n",
       "      <td>0.001645</td>\n",
       "      <td>-0.006825</td>\n",
       "      <td>0.002544</td>\n",
       "      <td>0.005077</td>\n",
       "      <td>0.002079</td>\n",
       "      <td>0.006457</td>\n",
       "      <td>...</td>\n",
       "      <td>0.002464</td>\n",
       "      <td>-0.002154</td>\n",
       "      <td>0.001094</td>\n",
       "      <td>0.010081</td>\n",
       "      <td>-0.001663</td>\n",
       "      <td>1.0</td>\n",
       "      <td>0.0</td>\n",
       "      <td>1.0</td>\n",
       "      <td>0.0</td>\n",
       "      <td>0.0</td>\n",
       "    </tr>\n",
       "    <tr>\n",
       "      <th>1</th>\n",
       "      <td>0</td>\n",
       "      <td>121</td>\n",
       "      <td>-0.003888</td>\n",
       "      <td>0.008964</td>\n",
       "      <td>-0.000934</td>\n",
       "      <td>-0.006382</td>\n",
       "      <td>0.003160</td>\n",
       "      <td>0.007403</td>\n",
       "      <td>0.006735</td>\n",
       "      <td>0.006071</td>\n",
       "      <td>...</td>\n",
       "      <td>-0.000138</td>\n",
       "      <td>-0.004328</td>\n",
       "      <td>-0.003977</td>\n",
       "      <td>0.019336</td>\n",
       "      <td>0.003358</td>\n",
       "      <td>1.0</td>\n",
       "      <td>0.0</td>\n",
       "      <td>0.0</td>\n",
       "      <td>1.0</td>\n",
       "      <td>0.0</td>\n",
       "    </tr>\n",
       "    <tr>\n",
       "      <th>2</th>\n",
       "      <td>0</td>\n",
       "      <td>21</td>\n",
       "      <td>-0.007732</td>\n",
       "      <td>-0.001875</td>\n",
       "      <td>-0.001212</td>\n",
       "      <td>-0.000843</td>\n",
       "      <td>-0.006848</td>\n",
       "      <td>-0.002804</td>\n",
       "      <td>-0.001028</td>\n",
       "      <td>0.003627</td>\n",
       "      <td>...</td>\n",
       "      <td>0.000302</td>\n",
       "      <td>0.002026</td>\n",
       "      <td>-0.005322</td>\n",
       "      <td>0.000607</td>\n",
       "      <td>-0.005002</td>\n",
       "      <td>1.0</td>\n",
       "      <td>0.0</td>\n",
       "      <td>0.0</td>\n",
       "      <td>1.0</td>\n",
       "      <td>0.0</td>\n",
       "    </tr>\n",
       "    <tr>\n",
       "      <th>3</th>\n",
       "      <td>0</td>\n",
       "      <td>1814</td>\n",
       "      <td>0.000868</td>\n",
       "      <td>0.003407</td>\n",
       "      <td>-0.001461</td>\n",
       "      <td>-0.002930</td>\n",
       "      <td>-0.000030</td>\n",
       "      <td>0.004871</td>\n",
       "      <td>-0.002819</td>\n",
       "      <td>-0.000101</td>\n",
       "      <td>...</td>\n",
       "      <td>-0.001414</td>\n",
       "      <td>-0.000641</td>\n",
       "      <td>-0.000142</td>\n",
       "      <td>0.008797</td>\n",
       "      <td>0.003983</td>\n",
       "      <td>1.0</td>\n",
       "      <td>0.0</td>\n",
       "      <td>1.0</td>\n",
       "      <td>0.0</td>\n",
       "      <td>0.0</td>\n",
       "    </tr>\n",
       "    <tr>\n",
       "      <th>4</th>\n",
       "      <td>0</td>\n",
       "      <td>5</td>\n",
       "      <td>0.000660</td>\n",
       "      <td>0.002280</td>\n",
       "      <td>0.001765</td>\n",
       "      <td>-0.001186</td>\n",
       "      <td>-0.002837</td>\n",
       "      <td>0.000163</td>\n",
       "      <td>-0.000390</td>\n",
       "      <td>0.000204</td>\n",
       "      <td>...</td>\n",
       "      <td>-0.000623</td>\n",
       "      <td>0.000001</td>\n",
       "      <td>-0.000905</td>\n",
       "      <td>-0.002055</td>\n",
       "      <td>0.002244</td>\n",
       "      <td>1.0</td>\n",
       "      <td>0.0</td>\n",
       "      <td>0.0</td>\n",
       "      <td>1.0</td>\n",
       "      <td>0.0</td>\n",
       "    </tr>\n",
       "  </tbody>\n",
       "</table>\n",
       "<p>5 rows × 107 columns</p>\n",
       "</div>"
      ],
      "text/plain": [
       "   Gilded  Number_of_Comments         0         1         2         3  \\\n",
       "0       0                  78  0.000034  0.002795  0.001645 -0.006825   \n",
       "1       0                 121 -0.003888  0.008964 -0.000934 -0.006382   \n",
       "2       0                  21 -0.007732 -0.001875 -0.001212 -0.000843   \n",
       "3       0                1814  0.000868  0.003407 -0.001461 -0.002930   \n",
       "4       0                   5  0.000660  0.002280  0.001765 -0.001186   \n",
       "\n",
       "          4         5         6         7  ...        95        96        97  \\\n",
       "0  0.002544  0.005077  0.002079  0.006457  ...  0.002464 -0.002154  0.001094   \n",
       "1  0.003160  0.007403  0.006735  0.006071  ... -0.000138 -0.004328 -0.003977   \n",
       "2 -0.006848 -0.002804 -0.001028  0.003627  ...  0.000302  0.002026 -0.005322   \n",
       "3 -0.000030  0.004871 -0.002819 -0.000101  ... -0.001414 -0.000641 -0.000142   \n",
       "4 -0.002837  0.000163 -0.000390  0.000204  ... -0.000623  0.000001 -0.000905   \n",
       "\n",
       "         98        99  False  True  negative  neutral  positive  \n",
       "0  0.010081 -0.001663    1.0   0.0       1.0      0.0       0.0  \n",
       "1  0.019336  0.003358    1.0   0.0       0.0      1.0       0.0  \n",
       "2  0.000607 -0.005002    1.0   0.0       0.0      1.0       0.0  \n",
       "3  0.008797  0.003983    1.0   0.0       1.0      0.0       0.0  \n",
       "4 -0.002055  0.002244    1.0   0.0       0.0      1.0       0.0  \n",
       "\n",
       "[5 rows x 107 columns]"
      ]
     },
     "execution_count": 39,
     "metadata": {},
     "output_type": "execute_result"
    }
   ],
   "source": [
    "X_train.head()"
   ]
  },
  {
   "cell_type": "code",
   "execution_count": 40,
   "metadata": {},
   "outputs": [],
   "source": [
    "from sklearn.linear_model import LinearRegression\n",
    "from sklearn.metrics import mean_squared_error, accuracy_score, r2_score, mean_absolute_error\n",
    "from sklearn.tree import DecisionTreeRegressor\n",
    "from sklearn.ensemble import RandomForestRegressor\n",
    "from sklearn.neighbors import KNeighborsRegressor\n",
    "from sklearn import metrics"
   ]
  },
  {
   "cell_type": "markdown",
   "metadata": {},
   "source": [
    "Linear Regression"
   ]
  },
  {
   "cell_type": "code",
   "execution_count": 41,
   "metadata": {},
   "outputs": [
    {
     "name": "stdout",
     "output_type": "stream",
     "text": [
      "RMSE TrainingData =  8725.181109824134\n",
      "RMSE TestData =  8264.990232924927\n",
      "--------------------------------------------------\n",
      "RSquared value on train: 0.348249758216276\n",
      "RSquared value on test: 0.3209152201390554\n"
     ]
    }
   ],
   "source": [
    "lm=LinearRegression()   \n",
    "lm = lm.fit(X_train,y_train)\n",
    "\n",
    "#Traindata Predictions\n",
    "train_pred = lm.predict(X_train)\n",
    "\n",
    "#testdata predictions\n",
    "test_pred = lm.predict(X_test)\n",
    "\n",
    "\n",
    "RMSE_test = np.sqrt(mean_squared_error(y_test, test_pred))\n",
    "RMSE_train= np.sqrt(mean_squared_error(y_train,train_pred))\n",
    "print(\"RMSE TrainingData = \",str(RMSE_train))\n",
    "print(\"RMSE TestData = \",str(RMSE_test))\n",
    "print('-'*50)\n",
    "print('RSquared value on train:',lm.score(X_train, y_train))\n",
    "print('RSquared value on test:',lm.score(X_test, y_test))"
   ]
  },
  {
   "cell_type": "markdown",
   "metadata": {},
   "source": [
    "Decision Tree Regressor"
   ]
  },
  {
   "cell_type": "code",
   "execution_count": 42,
   "metadata": {},
   "outputs": [
    {
     "data": {
      "text/plain": [
       "DecisionTreeRegressor(ccp_alpha=0.0, criterion='mse', max_depth=None,\n",
       "                      max_features=None, max_leaf_nodes=None,\n",
       "                      min_impurity_decrease=0.0, min_impurity_split=None,\n",
       "                      min_samples_leaf=1, min_samples_split=2,\n",
       "                      min_weight_fraction_leaf=0.0, presort='deprecated',\n",
       "                      random_state=None, splitter='best')"
      ]
     },
     "execution_count": 42,
     "metadata": {},
     "output_type": "execute_result"
    }
   ],
   "source": [
    "DT=DecisionTreeRegressor()\n",
    "DT.fit(X_train,y_train)"
   ]
  },
  {
   "cell_type": "code",
   "execution_count": 43,
   "metadata": {},
   "outputs": [],
   "source": [
    "#predicting train\n",
    "train_preds=DT.predict(X_train)\n",
    "#predicting on test\n",
    "test_preds=DT.predict(X_test)"
   ]
  },
  {
   "cell_type": "code",
   "execution_count": 44,
   "metadata": {},
   "outputs": [
    {
     "name": "stdout",
     "output_type": "stream",
     "text": [
      "RMSE TrainingData =  417.88206963549027\n",
      "RMSE TestData =  10581.84167087426\n",
      "--------------------------------------------------\n",
      "RSquared value on train: 0.9985050048835431\n",
      "RSquared value on test: -0.1131708517243859\n"
     ]
    }
   ],
   "source": [
    "RMSE_train=(np.sqrt(metrics.mean_squared_error(y_train,train_preds)))\n",
    "RMSE_test=(np.sqrt(metrics.mean_squared_error(y_test,test_preds)))\n",
    "print(\"RMSE TrainingData = \",str(RMSE_train))\n",
    "print(\"RMSE TestData = \",str(RMSE_test))\n",
    "print('-'*50)\n",
    "print('RSquared value on train:',DT.score(X_train, y_train))\n",
    "print('RSquared value on test:',DT.score(X_test, y_test))"
   ]
  },
  {
   "cell_type": "markdown",
   "metadata": {},
   "source": [
    "Random Forest Regression"
   ]
  },
  {
   "cell_type": "code",
   "execution_count": 45,
   "metadata": {},
   "outputs": [
    {
     "name": "stdout",
     "output_type": "stream",
     "text": [
      "RMSE TrainingData =  2837.5640486683174\n",
      "RMSE TestData =  7459.975979822178\n",
      "--------------------------------------------------\n",
      "RSquared value on train: 0.9310675608314705\n",
      "RSquared value on test: 0.44675924453898364\n"
     ]
    }
   ],
   "source": [
    "RF=RandomForestRegressor(n_jobs=-1)\n",
    "RF.fit(X_train,y_train)\n",
    "\n",
    "#predicting train\n",
    "train_preds1=RF.predict(X_train)\n",
    "#predicting on test\n",
    "test_preds1=RF.predict(X_test)\n",
    "\n",
    "RMSE_train=(np.sqrt(metrics.mean_squared_error(y_train,train_preds1)))\n",
    "RMSE_test=(np.sqrt(metrics.mean_squared_error(y_test,test_preds1)))\n",
    "print(\"RMSE TrainingData = \",str(RMSE_train))\n",
    "print(\"RMSE TestData = \",str(RMSE_test))\n",
    "print('-'*50)\n",
    "print('RSquared value on train:',RF.score(X_train, y_train))\n",
    "print('RSquared value on test:',RF.score(X_test, y_test))"
   ]
  },
  {
   "cell_type": "code",
   "execution_count": 47,
   "metadata": {},
   "outputs": [],
   "source": [
    "RF=RandomForestRegressor(n_jobs=-1)\n",
    "RF.fit(X_train,y_train)\n",
    "\n",
    "pickle.dump(RF, open('rf_regress.pkl','wb'))"
   ]
  },
  {
   "cell_type": "markdown",
   "metadata": {},
   "source": [
    "K Nearest Neighbors"
   ]
  },
  {
   "cell_type": "code",
   "execution_count": 48,
   "metadata": {},
   "outputs": [
    {
     "name": "stdout",
     "output_type": "stream",
     "text": [
      "RMSE TrainingData =  6606.932735711041\n",
      "RMSE TestData =  8634.922128544069\n",
      "--------------------------------------------------\n",
      "RSquared value on train: 0.6262922789509617\n",
      "RSquared value on test: 0.25876458977024996\n"
     ]
    }
   ],
   "source": [
    "knn=KNeighborsRegressor()\n",
    "knn.fit(X_train,y_train)\n",
    "\n",
    "#predicting train\n",
    "train_preds2=knn.predict(X_train)\n",
    "#predicting on test\n",
    "test_preds2=knn.predict(X_test)\n",
    "\n",
    "RMSE_train=(np.sqrt(metrics.mean_squared_error(y_train,train_preds2)))\n",
    "RMSE_test=(np.sqrt(metrics.mean_squared_error(y_test,test_preds2)))\n",
    "print(\"RMSE TrainingData = \",str(RMSE_train))\n",
    "print(\"RMSE TestData = \",str(RMSE_test))\n",
    "print('-'*50)\n",
    "print('RSquared value on train:',knn.score(X_train, y_train))\n",
    "print('RSquared value on test:',knn.score(X_test, y_test))"
   ]
  },
  {
   "cell_type": "code",
   "execution_count": null,
   "metadata": {},
   "outputs": [],
   "source": []
  }
 ],
 "metadata": {
  "kernelspec": {
   "display_name": "Python 3",
   "language": "python",
   "name": "python3"
  },
  "language_info": {
   "codemirror_mode": {
    "name": "ipython",
    "version": 3
   },
   "file_extension": ".py",
   "mimetype": "text/x-python",
   "name": "python",
   "nbconvert_exporter": "python",
   "pygments_lexer": "ipython3",
   "version": "3.7.6"
  }
 },
 "nbformat": 4,
 "nbformat_minor": 4
}
